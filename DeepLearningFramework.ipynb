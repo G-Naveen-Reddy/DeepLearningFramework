{
  "nbformat": 4,
  "nbformat_minor": 0,
  "metadata": {
    "colab": {
      "provenance": []
    },
    "kernelspec": {
      "name": "python3",
      "display_name": "Python 3"
    },
    "language_info": {
      "name": "python"
    }
  },
  "cells": [
    {
      "cell_type": "code",
      "execution_count": null,
      "metadata": {
        "id": "mHd9C4vE5tcZ"
      },
      "outputs": [],
      "source": []
    },
    {
      "cell_type": "markdown",
      "source": [
        " 1. What is TensorFlow 2.0, and how is it different from TensorFlow 1.x ?\n",
        "ensorFlow 2.0 is an open-source machine learning framework developed by Google, designed to simplify the development and deployment of ML models. It emphasizes:\n",
        "\n"
      ],
      "metadata": {
        "id": "y2U1FK825wZD"
      }
    },
    {
      "cell_type": "code",
      "source": [],
      "metadata": {
        "id": "lP7ebxA76Wqs"
      },
      "execution_count": null,
      "outputs": []
    },
    {
      "cell_type": "markdown",
      "source": [
        "2. How do you install TensorFlow 2.0\n",
        "Installation Steps (Using pip)\n",
        "Prerequisites\n",
        "*   Python 3.6 to 3.9 (recommended: Python 3.8 or 3.9)\n",
        "*   pip version ≥ 19.0 (pip install --upgrade pip if needed)\n",
        "*  pip install tensorflow-gpu==2.0.0\n",
        "\n",
        "\n",
        "\n",
        "\n",
        "\n"
      ],
      "metadata": {
        "id": "ueBv5Jfe6bhF"
      }
    },
    {
      "cell_type": "code",
      "source": [],
      "metadata": {
        "id": "FVVNX2A36_La"
      },
      "execution_count": null,
      "outputs": []
    },
    {
      "cell_type": "markdown",
      "source": [
        "3.  What is the primary function of the tf.function in TensorFlow 2.0 ?\n",
        "When you decorate a Python function with @tf.function, TensorFlow:\n",
        "*   Optimizes the graph for performance\n",
        "*   Builds a computation graph (like in TF 1.x) behind the scenes\n",
        "*   Traces the function to capture TensorFlow operations.\n",
        "*   Executes the graph instead of running Python code line-by-line\n",
        "\n",
        "\n",
        "\n",
        "\n",
        "\n",
        "\n"
      ],
      "metadata": {
        "id": "8xYVxqX76_4l"
      }
    },
    {
      "cell_type": "code",
      "source": [],
      "metadata": {
        "id": "A6-xVO4g7dmQ"
      },
      "execution_count": null,
      "outputs": []
    },
    {
      "cell_type": "markdown",
      "source": [
        "4. What is the purpose of the Model class in TensorFlow 2.0\n",
        "The Model class serves to:\n",
        "* Expose training and inference methods like .fit(), .evaluate(), .predict()\n",
        "\n",
        "* Group layers into a single object that can be trained and evaluated\n",
        "* Enable saving and loading via .save() and .load_model()\n",
        "* Define the forward pass of your network.\n",
        "* Support subclassing for custom behavior, giving you full control over architecture.\n",
        "\n",
        "\n",
        "\n",
        "\n",
        "\n"
      ],
      "metadata": {
        "id": "TPD48QDK7eQN"
      }
    },
    {
      "cell_type": "code",
      "source": [],
      "metadata": {
        "id": "3LOdH1db8EmJ"
      },
      "execution_count": null,
      "outputs": []
    },
    {
      "cell_type": "markdown",
      "source": [
        "5.  How do you create a neural network using TensorFlow 2.0\n",
        "* Import Required Libraries\n",
        "* Prepare Your Data\n",
        "* Define the Model Architecture\n",
        "* Compile the Model\n",
        "* Train the Model\n",
        "* Evaluate the Model\n"
      ],
      "metadata": {
        "id": "Aq-uECAu8FO5"
      }
    },
    {
      "cell_type": "code",
      "source": [],
      "metadata": {
        "id": "SITyO2uD8xbP"
      },
      "execution_count": null,
      "outputs": []
    },
    {
      "cell_type": "markdown",
      "source": [
        " 6. What is the importance of Tensor Space in TensorFlow\n",
        " Tensor Space refers to the multidimensional structure where tensors — the core data units in TensorFlow — live and operate. Think of it as the mathematical universe that defines:\n",
        "Shape: The dimensions of the tensor (e.g., scalar, vector, matrix, or higher-order),\n",
        "Rank: The number of dimensions (e.g., rank-0 = scalar, rank-2 = matrix)\n",
        "Size: Total number of elements, Data type: float32, int64\n"
      ],
      "metadata": {
        "id": "_qp1p9M68zps"
      }
    },
    {
      "cell_type": "code",
      "source": [],
      "metadata": {
        "id": "vgU_sKqM9PpL"
      },
      "execution_count": null,
      "outputs": []
    },
    {
      "cell_type": "markdown",
      "source": [
        "7.  How can TensorBoard be integrated with TensorFlow 2.0\n",
        "Integrating TensorBoard with TensorFlow 2.0 is seamless and powerful — especially for someone like you, Naveen, who values visibility into model performance and backend clarity. TensorBoard lets you visualize metrics like loss, accuracy, gradients, and even the model graph during training."
      ],
      "metadata": {
        "id": "TYySvW0u9TSg"
      }
    },
    {
      "cell_type": "code",
      "source": [],
      "metadata": {
        "id": "_yfX2W0i9Xst"
      },
      "execution_count": null,
      "outputs": []
    },
    {
      "cell_type": "markdown",
      "source": [
        "8.  What is the purpose of TensorFlow Playground\n",
        "TensorFlow Playground is a brilliant little sandbox for visually experimenting with neural networks — no code required. It’s designed to help you build intuition about how different architectural choices and hyperparameters affect learning. Think of it as a real-time simulation lab for deep learning concepts."
      ],
      "metadata": {
        "id": "HS_K5ly89YB8"
      }
    },
    {
      "cell_type": "code",
      "source": [],
      "metadata": {
        "id": "RNoo7OIc9dQV"
      },
      "execution_count": null,
      "outputs": []
    },
    {
      "cell_type": "markdown",
      "source": [
        "9.  What is Netron, and how is it useful for deep learning models\n",
        "Netron is a powerful, open-source model visualization tool designed specifically for deep learning, machine learning, and neural network architectures. Think of it as the X-ray machine for your model files — it lets you peek inside and understand the structure, layer by layer."
      ],
      "metadata": {
        "id": "fTNlAKs89dqZ"
      }
    },
    {
      "cell_type": "code",
      "source": [],
      "metadata": {
        "id": "6D8vqi_T9jmm"
      },
      "execution_count": null,
      "outputs": []
    },
    {
      "cell_type": "markdown",
      "source": [
        "10.  What is the difference between TensorFlow and PyTorch\n",
        "TensorFlow vs PyTorch: Core Differences\n",
        "Feature\tTensorFlow (by Google)\tPyTorch (by Meta/Facebook)\n",
        "Execution Model\tStatic graph (declarative) via tf.function\tDynamic graph (imperative) via Python control flow\n",
        "Ease of Debugging\tHarder (requires graph tracing or tf.function tricks)\tEasier (native Python debugging, intuitive flow)\n",
        "Syntax Style\tMore verbose, but modular with Keras\tPythonic, concise, and readable"
      ],
      "metadata": {
        "id": "sl3oCJ_f9mLX"
      }
    },
    {
      "cell_type": "code",
      "source": [],
      "metadata": {
        "id": "OhYu4g3Y9uj9"
      },
      "execution_count": null,
      "outputs": []
    },
    {
      "cell_type": "markdown",
      "source": [
        "11. How do you install PyTorch\n",
        "\n",
        "To install PyTorch, you can use either pip or conda, depending on your environment. For most users, the simplest method is via pip. If you're working on a CPU-only system, just run pip3 install torch torchvision torchaudio. If you have a CUDA-enabled GPU and want acceleration, you’ll need to install the version that matches your CUDA toolkit — for example, pip3 install torch torchvision torchaudio --index-url https://download.pytorch.org/whl/cu126 for CUDA 12.6. After installation, you can verify it by importing torch in Python and checking torch.__version__ and torch.cuda.is_available() to confirm GPU support. Alternatively, if you're using Anaconda, you can install PyTorch with conda install pytorch torchvision torchaudio -c pytorch for CPU, or add cudatoolkit=12.1 for GPU support. This flexibility makes PyTorch easy to integrate into both research and production environments, and it’s especially useful for backend engineers and ML practitioners who want full control over their setup."
      ],
      "metadata": {
        "id": "ePViEtGe9vzr"
      }
    },
    {
      "cell_type": "code",
      "source": [],
      "metadata": {
        "id": "6j1Erz_o98FX"
      },
      "execution_count": null,
      "outputs": []
    },
    {
      "cell_type": "markdown",
      "source": [
        "12.  What is the basic structure of a PyTorch neural network\n",
        "\n",
        "The basic structure of a neural network in PyTorch revolves around the nn.Module class, which acts as the blueprint for defining and organizing layers, forward passes, and learnable parameters. At its core, every PyTorch model is a subclass of nn.Module, and it typically includes two key components: the __init__() method, where you define the layers, and the forward() method, which specifies how data flows through those layers."
      ],
      "metadata": {
        "id": "kZVnidcU-GLT"
      }
    },
    {
      "cell_type": "code",
      "source": [],
      "metadata": {
        "id": "ShJShyer-LuC"
      },
      "execution_count": null,
      "outputs": []
    },
    {
      "cell_type": "markdown",
      "source": [
        "13.  What is the significance of tensors in PyTorch\n",
        "\n",
        "Tensors are the fundamental data structure in PyTorch — they’re the building blocks of every deep learning model, computation, and gradient flow. You can think of them as multi-dimensional arrays, similar to NumPy arrays, but with superpowers: they support GPU acceleration, automatic differentiation, and seamless integration with neural networks.\n"
      ],
      "metadata": {
        "id": "iFlAXaqw-NFT"
      }
    },
    {
      "cell_type": "code",
      "source": [],
      "metadata": {
        "id": "zcdPjLp1-Txx"
      },
      "execution_count": null,
      "outputs": []
    },
    {
      "cell_type": "markdown",
      "source": [
        "14.  What is the difference between torch.\n",
        "Tensor and torch.cuda.Tensor in PyTorch\n",
        "torch.Tensor: This is a tensor stored in CPU memory. All operations on it are executed using the CPU. 2.\n",
        "torch.cuda.Tensor: This is a tensor stored in GPU memory. Operations on it are executed using the GPU, which can significantly accelerate deep learning workloads\n"
      ],
      "metadata": {
        "id": "9Qlx4Mrs-UWz"
      }
    },
    {
      "cell_type": "code",
      "source": [],
      "metadata": {
        "id": "F95IkP11-el4"
      },
      "execution_count": null,
      "outputs": []
    },
    {
      "cell_type": "markdown",
      "source": [
        "15.  What is the purpose of the torch.optim module in PyTorch\n",
        "\n",
        "The torch.optim module in PyTorch is designed to handle the optimization process during neural network training. Its core purpose is to provide a suite of algorithms that adjust the model’s parameters — such as weights and biases — in order to minimize the loss function and improve performance. These optimizers use gradient information computed during backpropagation to update parameters in a way that gradually leads the model toward better predictions."
      ],
      "metadata": {
        "id": "cos2ePoL-fW4"
      }
    },
    {
      "cell_type": "code",
      "source": [],
      "metadata": {
        "id": "9BQLe17L-mJL"
      },
      "execution_count": null,
      "outputs": []
    },
    {
      "cell_type": "markdown",
      "source": [
        "16.  What are some common activation functions used in neural networks\n",
        "\n",
        "ReLU (Rectified Linear Unit), Sigmoid, Tanh (Hyperbolic Tangent), Leaky ReLU, Softmax\n"
      ],
      "metadata": {
        "id": "ydzHESe8-mrl"
      }
    },
    {
      "cell_type": "markdown",
      "source": [
        "17.  What is the difference between torch.nn.Module and torch.nn.Sequential in PyTorch\n",
        "\n",
        "Base class for all neural network components in PyTorch.\n",
        "\n",
        "You subclass it to define your own model architecture.\n",
        "\n",
        "Requires you to implement the __init__() method (for layers) and forward() method (for data flow).\n",
        "\n",
        "Offers maximum flexibility — you can include conditional logic, multiple inputs/outputs, branching, and custom operations."
      ],
      "metadata": {
        "id": "1R92P__a-4Vp"
      }
    },
    {
      "cell_type": "code",
      "source": [],
      "metadata": {
        "id": "IEEO7abh_MqT"
      },
      "execution_count": null,
      "outputs": []
    },
    {
      "cell_type": "markdown",
      "source": [
        "18.  How can you monitor training progress in TensorFlow 2.0\n",
        "\n",
        "Using model.fit() with Keras\n",
        "When you train a model using model.fit(), TensorFlow automatically tracks key metrics like loss and accuracy."
      ],
      "metadata": {
        "id": "7QfD4w_L_Ok_"
      }
    },
    {
      "cell_type": "markdown",
      "source": [
        "19.  How does the Keras API fit into TensorFlow 2.0\n",
        "In TensorFlow 2.0, the Keras API is the official high-level interface for building and training deep learning models — and it’s deeply integrated into the framework as tf.keras. This marks a major shift from earlier versions, where Keras was a separate library and TensorFlow had multiple competing APIs. Now, TensorFlow 2.0 standardizes on Keras to provide a unified, user-friendly, and production-ready workflow for everything from prototyping to deployment"
      ],
      "metadata": {
        "id": "kdeQXzJy_Ry5"
      }
    },
    {
      "cell_type": "code",
      "source": [],
      "metadata": {
        "id": "4ikR-Pqg_RGa"
      },
      "execution_count": null,
      "outputs": []
    },
    {
      "cell_type": "markdown",
      "source": [
        "20.  What is an example of a deep learning project that can be implemented using TensorFlow 2.0\n",
        "\n",
        "A great example of a deep learning project you can implement using TensorFlow 2.0 is a Handwritten Digit Recognition System using the MNIST dataset. It’s a classic yet powerful project that demonstrates the full lifecycle of a deep learning model — from data preprocessing to training, evaluation, and deployment."
      ],
      "metadata": {
        "id": "fdece0OU_ZeH"
      }
    },
    {
      "cell_type": "code",
      "source": [],
      "metadata": {
        "id": "6YMGu6QU_fKL"
      },
      "execution_count": null,
      "outputs": []
    },
    {
      "cell_type": "markdown",
      "source": [
        "21.  What is the main advantage of using pre-trained models in TensorFlow and PyTorch?\n",
        "\n",
        "The main advantage of using pre-trained models in TensorFlow and PyTorch is the power of transfer learning — you get to leverage models that have already learned rich, general-purpose features from massive datasets, saving you time, compute, and effort."
      ],
      "metadata": {
        "id": "yVKAnG29_gVD"
      }
    },
    {
      "cell_type": "code",
      "source": [],
      "metadata": {
        "id": "mYPa0DI5_mL0"
      },
      "execution_count": null,
      "outputs": []
    },
    {
      "cell_type": "markdown",
      "source": [
        "Practical Questions"
      ],
      "metadata": {
        "id": "DD_kne89_mv5"
      }
    },
    {
      "cell_type": "code",
      "source": [],
      "metadata": {
        "id": "xJ1yjPrL_pj_"
      },
      "execution_count": null,
      "outputs": []
    },
    {
      "cell_type": "markdown",
      "source": [
        "1.  How do you install and verify that TensorFlow 2.0 was installed successfully\n",
        "Step 1: Install TensorFlow 2.0,\n",
        "Step 2: Verify Installation"
      ],
      "metadata": {
        "id": "_qL6RFC-_qU0"
      }
    },
    {
      "cell_type": "code",
      "source": [],
      "metadata": {
        "id": "TPA83wuf_1qR"
      },
      "execution_count": null,
      "outputs": []
    },
    {
      "cell_type": "markdown",
      "source": [
        "2.  How can you define a simple function in TensorFlow 2.0 to perform addition\n",
        "\n"
      ],
      "metadata": {
        "id": "rJv7EiL2_2Rs"
      }
    },
    {
      "cell_type": "code",
      "source": [
        "import tensorflow as tf\n",
        "\n",
        "@tf.function\n",
        "def add_numbers(a, b):\n",
        "    return tf.add(a, b)\n",
        "\n",
        "# Example usage\n",
        "x = tf.constant(5)\n",
        "y = tf.constant(3)\n",
        "result = add_numbers(x, y)\n",
        "print(result)  # Output: tf.Tensor(8, shape=(), dtype=int32)\n"
      ],
      "metadata": {
        "colab": {
          "base_uri": "https://localhost:8080/"
        },
        "id": "BJJVez_M_9ng",
        "outputId": "3169c328-b478-48cd-dd90-1c0926f9650f"
      },
      "execution_count": 1,
      "outputs": [
        {
          "output_type": "stream",
          "name": "stdout",
          "text": [
            "tf.Tensor(8, shape=(), dtype=int32)\n"
          ]
        }
      ]
    },
    {
      "cell_type": "code",
      "source": [],
      "metadata": {
        "id": "rNTh3S7KAC6V"
      },
      "execution_count": null,
      "outputs": []
    },
    {
      "cell_type": "markdown",
      "source": [
        "3.  How can you create a simple neural network in TensorFlow 2.0 with one hidden layer\n",
        "\n"
      ],
      "metadata": {
        "id": "ajXcMzpiAEK7"
      }
    },
    {
      "cell_type": "code",
      "source": [
        "import tensorflow as tf\n",
        "import matplotlib.pyplot as plt\n",
        "\n",
        "(x_train, y_train), (x_test, y_test) = tf.keras.datasets.mnist.load_data()\n",
        "x_train = x_train / 255.0\n",
        "x_test = x_test / 255.0\n",
        "\n",
        "model = tf.keras.Sequential([\n",
        "    tf.keras.layers.Flatten(input_shape=(28, 28)),\n",
        "    tf.keras.layers.Dense(128, activation='relu'),\n",
        "    tf.keras.layers.Dense(10, activation='softmax')\n",
        "])\n",
        "\n",
        "model.compile(optimizer='adam',\n",
        "              loss='sparse_categorical_crossentropy',\n",
        "              metrics=['accuracy'])\n",
        "\n",
        "history = model.fit(x_train, y_train, epochs=5, validation_split=0.1)\n",
        "\n",
        "test_loss, test_acc = model.evaluate(x_test, y_test)\n",
        "print(f'Test accuracy: {test_acc:.4f}')\n",
        "\n",
        "plt.plot(history.history['loss'], label='Training Loss')\n",
        "plt.plot(history.history['val_loss'], label='Validation Loss')\n",
        "plt.xlabel('Epoch')\n",
        "plt.ylabel('Loss')\n",
        "plt.legend()\n",
        "plt.title('Training vs Validation Loss')\n",
        "plt.show()\n"
      ],
      "metadata": {
        "colab": {
          "base_uri": "https://localhost:8080/",
          "height": 782
        },
        "id": "QtLyRNooATI7",
        "outputId": "2344fdc0-9660-40dd-8b2f-1a19253124fc"
      },
      "execution_count": 2,
      "outputs": [
        {
          "output_type": "stream",
          "name": "stdout",
          "text": [
            "Downloading data from https://storage.googleapis.com/tensorflow/tf-keras-datasets/mnist.npz\n",
            "\u001b[1m11490434/11490434\u001b[0m \u001b[32m━━━━━━━━━━━━━━━━━━━━\u001b[0m\u001b[37m\u001b[0m \u001b[1m0s\u001b[0m 0us/step\n"
          ]
        },
        {
          "output_type": "stream",
          "name": "stderr",
          "text": [
            "/usr/local/lib/python3.12/dist-packages/keras/src/layers/reshaping/flatten.py:37: UserWarning: Do not pass an `input_shape`/`input_dim` argument to a layer. When using Sequential models, prefer using an `Input(shape)` object as the first layer in the model instead.\n",
            "  super().__init__(**kwargs)\n"
          ]
        },
        {
          "output_type": "stream",
          "name": "stdout",
          "text": [
            "Epoch 1/5\n",
            "\u001b[1m1688/1688\u001b[0m \u001b[32m━━━━━━━━━━━━━━━━━━━━\u001b[0m\u001b[37m\u001b[0m \u001b[1m8s\u001b[0m 4ms/step - accuracy: 0.8699 - loss: 0.4597 - val_accuracy: 0.9622 - val_loss: 0.1319\n",
            "Epoch 2/5\n",
            "\u001b[1m1688/1688\u001b[0m \u001b[32m━━━━━━━━━━━━━━━━━━━━\u001b[0m\u001b[37m\u001b[0m \u001b[1m10s\u001b[0m 4ms/step - accuracy: 0.9627 - loss: 0.1282 - val_accuracy: 0.9727 - val_loss: 0.0927\n",
            "Epoch 3/5\n",
            "\u001b[1m1688/1688\u001b[0m \u001b[32m━━━━━━━━━━━━━━━━━━━━\u001b[0m\u001b[37m\u001b[0m \u001b[1m6s\u001b[0m 4ms/step - accuracy: 0.9745 - loss: 0.0848 - val_accuracy: 0.9773 - val_loss: 0.0802\n",
            "Epoch 4/5\n",
            "\u001b[1m1688/1688\u001b[0m \u001b[32m━━━━━━━━━━━━━━━━━━━━\u001b[0m\u001b[37m\u001b[0m \u001b[1m7s\u001b[0m 4ms/step - accuracy: 0.9824 - loss: 0.0590 - val_accuracy: 0.9755 - val_loss: 0.0850\n",
            "Epoch 5/5\n",
            "\u001b[1m1688/1688\u001b[0m \u001b[32m━━━━━━━━━━━━━━━━━━━━\u001b[0m\u001b[37m\u001b[0m \u001b[1m9s\u001b[0m 4ms/step - accuracy: 0.9868 - loss: 0.0443 - val_accuracy: 0.9757 - val_loss: 0.0857\n",
            "\u001b[1m313/313\u001b[0m \u001b[32m━━━━━━━━━━━━━━━━━━━━\u001b[0m\u001b[37m\u001b[0m \u001b[1m1s\u001b[0m 2ms/step - accuracy: 0.9715 - loss: 0.0931\n",
            "Test accuracy: 0.9748\n"
          ]
        },
        {
          "output_type": "display_data",
          "data": {
            "text/plain": [
              "<Figure size 640x480 with 1 Axes>"
            ],
            "image/png": "[encoded data removed]"
          },
          "metadata": {}
        }
      ]
    },
    {
      "cell_type": "code",
      "source": [],
      "metadata": {
        "id": "ceg_CExyAT6U"
      },
      "execution_count": null,
      "outputs": []
    },
    {
      "cell_type": "markdown",
      "source": [
        " 4. How can you visualize the training progress using TensorFlow and Matplotlib\n"
      ],
      "metadata": {
        "id": "qGwt-l_eAZyk"
      }
    },
    {
      "cell_type": "code",
      "source": [
        "import tensorflow as tf\n",
        "import matplotlib.pyplot as plt\n",
        "\n",
        "(x_train, y_train), (x_test, y_test) = tf.keras.datasets.mnist.load_data()\n",
        "x_train, x_test = x_train / 255.0, x_test / 255.0\n",
        "\n",
        "model = tf.keras.Sequential([\n",
        "    tf.keras.layers.Flatten(input_shape=(28, 28)),\n",
        "    tf.keras.layers.Dense(128, activation='relu'),\n",
        "    tf.keras.layers.Dense(10, activation='softmax')\n",
        "])\n",
        "\n",
        "model.compile(optimizer='adam',\n",
        "              loss='sparse_categorical_crossentropy',\n",
        "              metrics=['accuracy'])\n",
        "\n",
        "history = model.fit(x_train, y_train, epochs=5, validation_split=0.1)\n",
        "\n",
        "plt.plot(history.history['loss'], label='Training Loss')\n",
        "plt.plot(history.history['val_loss'], label='Validation Loss')\n",
        "plt.xlabel('Epoch')\n",
        "plt.ylabel('Loss')\n",
        "plt.title('Training vs Validation Loss')\n",
        "plt.legend()\n",
        "plt.show()\n",
        "\n",
        "plt.plot(history.history['accuracy'], label='Training Accuracy')\n",
        "plt.plot(history.history['val_accuracy'], label='Validation Accuracy')\n",
        "plt.xlabel('Epoch')\n",
        "plt.ylabel('Accuracy')\n",
        "plt.title('Training vs Validation Accuracy')\n",
        "plt.legend()\n",
        "plt.show()\n"
      ],
      "metadata": {
        "colab": {
          "base_uri": "https://localhost:8080/",
          "height": 1000
        },
        "id": "HqBLuA1EAnQN",
        "outputId": "675fed03-2319-43d6-bb60-7f48d84539f9"
      },
      "execution_count": 3,
      "outputs": [
        {
          "output_type": "stream",
          "name": "stdout",
          "text": [
            "Epoch 1/5\n",
            "\u001b[1m1688/1688\u001b[0m \u001b[32m━━━━━━━━━━━━━━━━━━━━\u001b[0m\u001b[37m\u001b[0m \u001b[1m7s\u001b[0m 4ms/step - accuracy: 0.8758 - loss: 0.4505 - val_accuracy: 0.9625 - val_loss: 0.1324\n",
            "Epoch 2/5\n",
            "\u001b[1m1688/1688\u001b[0m \u001b[32m━━━━━━━━━━━━━━━━━━━━\u001b[0m\u001b[37m\u001b[0m \u001b[1m10s\u001b[0m 6ms/step - accuracy: 0.9613 - loss: 0.1328 - val_accuracy: 0.9708 - val_loss: 0.0985\n",
            "Epoch 3/5\n",
            "\u001b[1m1688/1688\u001b[0m \u001b[32m━━━━━━━━━━━━━━━━━━━━\u001b[0m\u001b[37m\u001b[0m \u001b[1m17s\u001b[0m 4ms/step - accuracy: 0.9733 - loss: 0.0873 - val_accuracy: 0.9743 - val_loss: 0.0841\n",
            "Epoch 4/5\n",
            "\u001b[1m1688/1688\u001b[0m \u001b[32m━━━━━━━━━━━━━━━━━━━━\u001b[0m\u001b[37m\u001b[0m \u001b[1m10s\u001b[0m 4ms/step - accuracy: 0.9800 - loss: 0.0655 - val_accuracy: 0.9778 - val_loss: 0.0799\n",
            "Epoch 5/5\n",
            "\u001b[1m1688/1688\u001b[0m \u001b[32m━━━━━━━━━━━━━━━━━━━━\u001b[0m\u001b[37m\u001b[0m \u001b[1m11s\u001b[0m 4ms/step - accuracy: 0.9863 - loss: 0.0481 - val_accuracy: 0.9738 - val_loss: 0.0845\n"
          ]
        },
        {
          "output_type": "display_data",
          "data": {
            "text/plain": [
              "<Figure size 640x480 with 1 Axes>"
            ],
            "image/png": "[encoded data removed]"
          },
          "metadata": {}
        },
        {
          "output_type": "display_data",
          "data": {
            "text/plain": [
              "<Figure size 640x480 with 1 Axes>"
            ],
            "image/png": "[encoded data removed]"
          },
          "metadata": {}
        }
      ]
    },
    {
      "cell_type": "code",
      "source": [],
      "metadata": {
        "id": "Rtv6HYRxAn7m"
      },
      "execution_count": null,
      "outputs": []
    },
    {
      "cell_type": "markdown",
      "source": [
        " 5. How do you install PyTorch and verify the PyTorch installation\n",
        "\n",
        "Step 1: Install PyTorch\n",
        "pip3 install torch torchvision torchaudio\n",
        ",\n",
        "Step 2: Verify Installation\n",
        "import torch\n",
        "print(torch.__version__)\n",
        "print(torch.cuda.is_available())\n"
      ],
      "metadata": {
        "id": "viTbu7tJAusd"
      }
    },
    {
      "cell_type": "code",
      "source": [],
      "metadata": {
        "id": "-nGxtok4BDuS"
      },
      "execution_count": null,
      "outputs": []
    },
    {
      "cell_type": "markdown",
      "source": [
        "6. How do you create a simple neural network in PyTorch\n"
      ],
      "metadata": {
        "id": "VpLVG-GgBScL"
      }
    },
    {
      "cell_type": "code",
      "source": [
        "import torch\n",
        "import torch.nn as nn\n",
        "import torch.optim as optim\n",
        "from torchvision import datasets, transforms\n",
        "\n",
        "device = torch.device('cuda' if torch.cuda.is_available() else 'cpu')\n",
        "\n",
        "transform = transforms.Compose([transforms.ToTensor(), transforms.Normalize((0.5,), (0.5,))])\n",
        "train_dataset = datasets.MNIST(root='./data', train=True, transform=transform, download=True)\n",
        "train_loader = torch.utils.data.DataLoader(dataset=train_dataset, batch_size=64, shuffle=True)\n",
        "\n",
        "class SimpleNN(nn.Module):\n",
        "    def __init__(self):\n",
        "        super(SimpleNN, self).__init__()\n",
        "        self.flatten = nn.Flatten()\n",
        "        self.fc1 = nn.Linear(28*28, 128)\n",
        "        self.relu = nn.ReLU()\n",
        "        self.fc2 = nn.Linear(128, 10)\n",
        "\n",
        "    def forward(self, x):\n",
        "        x = self.flatten(x)\n",
        "        x = self.relu(self.fc1(x))\n",
        "        x = self.fc2(x)\n",
        "        return x\n",
        "\n",
        "model = SimpleNN().to(device)\n",
        "\n",
        "criterion = nn.CrossEntropyLoss()\n",
        "optimizer = optim.Adam(model.parameters(), lr=0.001)\n",
        "\n",
        "for epoch in range(5):\n",
        "    for images, labels in train_loader:\n",
        "        images, labels = images.to(device), labels.to(device)\n",
        "        outputs = model(images)\n",
        "        loss = criterion(outputs, labels)\n",
        "        optimizer.zero_grad()\n",
        "        loss.backward()\n",
        "        optimizer.step()\n",
        "    print(f'Epoch [{epoch+1}/5], Loss: {loss.item():.4f}')\n"
      ],
      "metadata": {
        "colab": {
          "base_uri": "https://localhost:8080/"
        },
        "id": "u0jxiYXZBU9p",
        "outputId": "3ceeeb9a-bba4-4cda-cfb6-aa91c78d5775"
      },
      "execution_count": 4,
      "outputs": [
        {
          "output_type": "stream",
          "name": "stderr",
          "text": [
            "100%|██████████| 9.91M/9.91M [00:00<00:00, 19.8MB/s]\n",
            "100%|██████████| 28.9k/28.9k [00:00<00:00, 615kB/s]\n",
            "100%|██████████| 1.65M/1.65M [00:00<00:00, 5.65MB/s]\n",
            "100%|██████████| 4.54k/4.54k [00:00<00:00, 4.65MB/s]\n"
          ]
        },
        {
          "output_type": "stream",
          "name": "stdout",
          "text": [
            "Epoch [1/5], Loss: 0.1831\n",
            "Epoch [2/5], Loss: 0.1828\n",
            "Epoch [3/5], Loss: 0.0771\n",
            "Epoch [4/5], Loss: 0.2625\n",
            "Epoch [5/5], Loss: 0.1811\n"
          ]
        }
      ]
    },
    {
      "cell_type": "code",
      "source": [],
      "metadata": {
        "id": "jl_wOZl_BXt7"
      },
      "execution_count": null,
      "outputs": []
    },
    {
      "cell_type": "markdown",
      "source": [
        "7.  How do you define a loss function and optimizer in PyTorch\n",
        "\n",
        "In PyTorch, defining a loss function and an optimizer is central to training any neural network. These components work together to guide the model toward better predictions by minimizing the error between predicted and actual outputs."
      ],
      "metadata": {
        "id": "6YVAX9T_BZB6"
      }
    },
    {
      "cell_type": "code",
      "source": [
        "import torch.nn as nn\n",
        "\n",
        "criterion = nn.CrossEntropyLoss()  # For multi-class classification\n"
      ],
      "metadata": {
        "id": "a4h0UUB-Bk_G"
      },
      "execution_count": 5,
      "outputs": []
    },
    {
      "cell_type": "code",
      "source": [],
      "metadata": {
        "id": "WXwhCeIOBm_l"
      },
      "execution_count": null,
      "outputs": []
    },
    {
      "cell_type": "markdown",
      "source": [
        " 8. How do you implement a custom loss function in PyTorch\n",
        " Implementing a custom loss function in PyTorch is straightforward and powerful — especially when you need to tailor the optimization process to your specific task, such as handling imbalanced data, domain-specific penalties, or novel research objectives\n"
      ],
      "metadata": {
        "id": "tYynsO4jBtPH"
      }
    },
    {
      "cell_type": "code",
      "source": [],
      "metadata": {
        "id": "aL49LB8qBvDi"
      },
      "execution_count": null,
      "outputs": []
    },
    {
      "cell_type": "markdown",
      "source": [
        "9.  How do you save and load a TensorFlow model?\n",
        "Saving and loading models in TensorFlow is clean, flexible, and production-ready — whether you're preserving a full training state or just the architecture and weights. TensorFlow supports multiple formats, but the most common are SavedModel and HDF5 (.h5)."
      ],
      "metadata": {
        "id": "4Di6f4-nBw01"
      }
    },
    {
      "cell_type": "code",
      "source": [],
      "metadata": {
        "id": "Uf2eNqfmB_Mj"
      },
      "execution_count": null,
      "outputs": []
    }
  ]
}